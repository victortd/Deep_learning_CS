{
 "cells": [
  {
   "cell_type": "code",
   "execution_count": 1,
   "metadata": {},
   "outputs": [
    {
     "name": "stderr",
     "output_type": "stream",
     "text": [
      "Using TensorFlow backend.\n",
      "/Users/victort-d/anaconda/lib/python3.6/importlib/_bootstrap.py:219: RuntimeWarning: compiletime version 3.5 of module 'tensorflow.python.framework.fast_tensor_util' does not match runtime version 3.6\n",
      "  return f(*args, **kwds)\n"
     ]
    }
   ],
   "source": [
    "import matplotlib.pyplot as plt\n",
    "#matplotlib inline\n",
    "import numpy as np\n",
    "from keras.utils import to_categorical\n",
    "\n",
    "def generate_a_drawing(figsize, U, V, noise=0.0):\n",
    "    fig = plt.figure(figsize=(figsize,figsize))\n",
    "    ax = plt.subplot(111)\n",
    "    plt.axis('Off')\n",
    "    ax.set_xlim(0,figsize)\n",
    "    ax.set_ylim(0,figsize)\n",
    "    ax.fill(U, V, \"k\")\n",
    "    fig.canvas.draw()\n",
    "    imdata = np.frombuffer(fig.canvas.tostring_rgb(), dtype=np.uint8)[::3].astype(np.float32)\n",
    "    imdata = imdata + noise * np.random.random(imdata.size)\n",
    "    plt.close(fig)\n",
    "    return imdata\n",
    "\n",
    "def generate_a_rectangle(noise=0.0, free_location=False):\n",
    "    figsize = 1.0    \n",
    "    U = np.zeros(4)\n",
    "    V = np.zeros(4)\n",
    "    if free_location:\n",
    "        corners = np.random.random(4)\n",
    "        top = max(corners[0], corners[1])\n",
    "        bottom = min(corners[0], corners[1])\n",
    "        left = min(corners[2], corners[3])\n",
    "        right = max(corners[2], corners[3])\n",
    "    else:\n",
    "        side = (0.3 + 0.7 * np.random.random()) * figsize\n",
    "        top = figsize/2 + side/2\n",
    "        bottom = figsize/2 - side/2\n",
    "        left = bottom\n",
    "        right = top\n",
    "    U[0] = U[1] = top\n",
    "    U[2] = U[3] = bottom\n",
    "    V[0] = V[3] = left\n",
    "    V[1] = V[2] = right\n",
    "    return generate_a_drawing(figsize, U, V, noise)\n",
    "\n",
    "\n",
    "def generate_a_disk(noise=0.0, free_location=False):\n",
    "    figsize = 1.0\n",
    "    if free_location:\n",
    "        center = np.random.random(2)\n",
    "    else:\n",
    "        center = (figsize/2, figsize/2)\n",
    "    radius = (0.3 + 0.7 * np.random.random()) * figsize/2\n",
    "    N = 50\n",
    "    U = np.zeros(N)\n",
    "    V = np.zeros(N)\n",
    "    i = 0\n",
    "    for t in np.linspace(0, 2*np.pi, N):\n",
    "        U[i] = center[0] + np.cos(t) * radius\n",
    "        V[i] = center[1] + np.sin(t) * radius\n",
    "        i = i + 1\n",
    "    return generate_a_drawing(figsize, U, V, noise)\n",
    "\n",
    "def generate_a_triangle(noise=0.0, free_location=False):\n",
    "    figsize = 1.0\n",
    "    if free_location:\n",
    "        U = np.random.random(3)\n",
    "        V = np.random.random(3)\n",
    "    else:\n",
    "        size = (0.3 + 0.7 * np.random.random())*figsize/2\n",
    "        middle = figsize/2\n",
    "        U = (middle, middle+size, middle-size)\n",
    "        V = (middle+size, middle-size, middle-size)\n",
    "    imdata = generate_a_drawing(figsize, U, V, noise)\n",
    "    return [imdata, [U[0], V[0], U[1], V[1], U[2], V[2]]]\n",
    "\n",
    "\n",
    "im = generate_a_rectangle(10, True)\n",
    "plt.imshow(im.reshape(72,72), cmap='gray')\n",
    "\n",
    "im = generate_a_disk(10)\n",
    "plt.imshow(im.reshape(72,72), cmap='gray')\n",
    "\n",
    "[im, v] = generate_a_triangle(20, False)\n",
    "plt.imshow(im.reshape(72,72), cmap='gray')\n",
    "\n",
    "\n",
    "def generate_dataset_classification(nb_samples, noise=0.0, free_location=False):\n",
    "    # Getting im_size:\n",
    "    im_size = generate_a_rectangle().shape[0]\n",
    "    X = np.zeros([nb_samples,im_size])\n",
    "    Y = np.zeros(nb_samples)\n",
    "    print('Creating data:')\n",
    "    for i in range(nb_samples):\n",
    "        if i % 10 == 0:\n",
    "            print(i)\n",
    "        category = np.random.randint(3)\n",
    "        if category == 0:\n",
    "            X[i] = generate_a_rectangle(noise, free_location)\n",
    "        elif category == 1: \n",
    "            X[i] = generate_a_disk(noise, free_location)\n",
    "        else:\n",
    "            [X[i], V] = generate_a_triangle(noise, free_location)\n",
    "        Y[i] = category\n",
    "    X = (X + noise) / (255 + 2 * noise)\n",
    "    return [X, Y]\n",
    "\n",
    "def generate_test_set_classification():\n",
    "    np.random.seed(42)\n",
    "    [X_test, Y_test] = generate_dataset_classification(300, 20, True)\n",
    "    Y_test = to_categorical(Y_test, 3) \n",
    "    return [X_test, Y_test]\n",
    "\n",
    "def generate_dataset_regression(nb_samples, noise=0.0):\n",
    "    # Getting im_size:\n",
    "    im_size = generate_a_triangle()[0].shape[0]\n",
    "    X = np.zeros([nb_samples,im_size])\n",
    "    Y = np.zeros([nb_samples, 6])\n",
    "    print('Creating data:')\n",
    "    for i in range(nb_samples):\n",
    "        if i % 10 == 0:\n",
    "            print(i)\n",
    "        [X[i], Y[i]] = generate_a_triangle(noise, True)\n",
    "    X = (X + noise) / (255 + 2 * noise)\n",
    "    return [X, Y]\n",
    "\n",
    "import matplotlib.patches as patches\n",
    "\n",
    "def visualize_prediction(x, y):\n",
    "    fig, ax = plt.subplots(figsize=(5, 5))\n",
    "    I = x.reshape((72,72))\n",
    "    ax.imshow(I, extent=[-0.15,1.15,-0.15,1.15],cmap='gray')\n",
    "    ax.set_xlim([0,1])\n",
    "    ax.set_ylim([0,1])\n",
    "\n",
    "    xy = y.reshape(3,2)\n",
    "    tri = patches.Polygon(xy, closed=True, fill = False, edgecolor = 'r', linewidth = 5, alpha = 0.5)\n",
    "    ax.add_patch(tri)\n",
    "\n",
    "    plt.show()\n",
    "\n",
    "def generate_test_set_regression():\n",
    "    np.random.seed(42)\n",
    "    [X_test, Y_test] = generate_dataset_regression(300, 20)\n",
    "    return [X_test, Y_test]\n",
    "\n",
    "\n",
    "\n"
   ]
  },
  {
   "cell_type": "code",
   "execution_count": 50,
   "metadata": {
    "collapsed": true
   },
   "outputs": [],
   "source": [
    "def centre_gravite(dataset,size):\n",
    "    res = np.zeros((size, 6))\n",
    "    for i in range(0, size):\n",
    "        x_CG = (dataset[i,4] + dataset[i,2] + dataset[i,0])/3\n",
    "        y_CG = (dataset[i,5] + dataset[i,3] + dataset[i,1])/3\n",
    "        minmax = [dataset[i,2*m] for m in range(0,3)]\n",
    "        j = np.argmax(minmax)\n",
    "        k = np.argmin(minmax)\n",
    "        temp = [dataset[i,2*j] - x_CG, dataset[i,2*j+1] - y_CG, \n",
    "                dataset[i,2*k] - x_CG, dataset[i,2*k+1] - y_CG, \n",
    "                x_CG, y_CG]\n",
    "        res[i,:] = temp\n",
    "    return res\n",
    "\n",
    "\n",
    "def rearrange_triangle(dataset,size):\n",
    "    res = np.zeros((size, 6))\n",
    "    for i in range(0, size):\n",
    "        x_manquant = dataset[i,4] - dataset[i,2] - dataset[i,0]\n",
    "        y_manquant = dataset[i,5] - dataset[i,3] - dataset[i,1]\n",
    "        temp = [dataset[i,0] + dataset[i,4], dataset[i,1] + dataset[i,5], \n",
    "                dataset[i,2] + dataset[i,4], dataset[i,3] + dataset[i,5], \n",
    "                x_manquant, y_manquant]\n",
    "       \n",
    "        res[i,:] = temp\n",
    "    return res"
   ]
  },
  {
   "cell_type": "code",
   "execution_count": 3,
   "metadata": {},
   "outputs": [
    {
     "name": "stdout",
     "output_type": "stream",
     "text": [
      "Creating data:\n",
      "0\n",
      "10\n",
      "20\n",
      "30\n",
      "40\n",
      "50\n",
      "60\n",
      "70\n",
      "80\n",
      "90\n",
      "100\n",
      "110\n",
      "120\n",
      "130\n",
      "140\n",
      "150\n",
      "160\n",
      "170\n",
      "180\n",
      "190\n",
      "200\n",
      "210\n",
      "220\n",
      "230\n",
      "240\n",
      "250\n",
      "260\n",
      "270\n",
      "280\n",
      "290\n"
     ]
    }
   ],
   "source": [
    "[X_train2, Y_train2] = generate_dataset_classification(300, 20)"
   ]
  },
  {
   "cell_type": "code",
   "execution_count": 4,
   "metadata": {
    "collapsed": true
   },
   "outputs": [],
   "source": [
    "import keras\n",
    "from keras.models import Sequential\n",
    "import keras.backend as K\n",
    "K.clear_session()\n",
    "model = Sequential()\n",
    "\n",
    "from keras.utils import to_categorical\n",
    "Y_train2_t = to_categorical(Y_train2, num_classes=3)\n",
    "from keras.layers import Dense, Activation\n",
    "\n",
    "nb_neurons = 20\n",
    "model.add(Dense(nb_neurons, input_shape=(5184,)))\n",
    "model.add(Activation('relu'))\n",
    "model.add(Dense(3, activation = 'softmax'))"
   ]
  },
  {
   "cell_type": "code",
   "execution_count": 5,
   "metadata": {
    "scrolled": true
   },
   "outputs": [],
   "source": [
    "from keras.optimizers import SGD\n",
    "sgd = SGD(lr=0.0001,\n",
    "          decay=1e-6, momentum=0.9,\n",
    "nesterov=True)\n",
    "  \n",
    "model.compile(loss='categorical_crossentropy',\n",
    "              optimizer=sgd, metrics=['accuracy'])"
   ]
  },
  {
   "cell_type": "code",
   "execution_count": 6,
   "metadata": {},
   "outputs": [
    {
     "name": "stdout",
     "output_type": "stream",
     "text": [
      "Epoch 1/20\n",
      "300/300 [==============================] - 0s 656us/step - loss: 1.2904 - acc: 0.3467\n",
      "Epoch 2/20\n",
      "300/300 [==============================] - 0s 120us/step - loss: 1.0250 - acc: 0.4900\n",
      "Epoch 3/20\n",
      "300/300 [==============================] - 0s 94us/step - loss: 0.9164 - acc: 0.6133\n",
      "Epoch 4/20\n",
      "300/300 [==============================] - 0s 98us/step - loss: 0.8616 - acc: 0.6067\n",
      "Epoch 5/20\n",
      "300/300 [==============================] - 0s 100us/step - loss: 0.8106 - acc: 0.6767\n",
      "Epoch 6/20\n",
      "300/300 [==============================] - 0s 101us/step - loss: 0.7767 - acc: 0.6633\n",
      "Epoch 7/20\n",
      "300/300 [==============================] - 0s 117us/step - loss: 0.7482 - acc: 0.6933\n",
      "Epoch 8/20\n",
      "300/300 [==============================] - 0s 95us/step - loss: 0.7271 - acc: 0.6800\n",
      "Epoch 9/20\n",
      "300/300 [==============================] - 0s 94us/step - loss: 0.7057 - acc: 0.6867\n",
      "Epoch 10/20\n",
      "300/300 [==============================] - 0s 91us/step - loss: 0.6902 - acc: 0.6933\n",
      "Epoch 11/20\n",
      "300/300 [==============================] - 0s 95us/step - loss: 0.6729 - acc: 0.6900\n",
      "Epoch 12/20\n",
      "300/300 [==============================] - 0s 97us/step - loss: 0.6598 - acc: 0.6900\n",
      "Epoch 13/20\n",
      "300/300 [==============================] - 0s 95us/step - loss: 0.6467 - acc: 0.6967\n",
      "Epoch 14/20\n",
      "300/300 [==============================] - 0s 92us/step - loss: 0.6359 - acc: 0.7000\n",
      "Epoch 15/20\n",
      "300/300 [==============================] - 0s 97us/step - loss: 0.6275 - acc: 0.7000\n",
      "Epoch 16/20\n",
      "300/300 [==============================] - 0s 99us/step - loss: 0.6156 - acc: 0.7067\n",
      "Epoch 17/20\n",
      "300/300 [==============================] - 0s 104us/step - loss: 0.6063 - acc: 0.7200\n",
      "Epoch 18/20\n",
      "300/300 [==============================] - 0s 123us/step - loss: 0.5994 - acc: 0.6867\n",
      "Epoch 19/20\n",
      "300/300 [==============================] - 0s 100us/step - loss: 0.5916 - acc: 0.7300\n",
      "Epoch 20/20\n",
      "300/300 [==============================] - ETA: 0s - loss: 0.5546 - acc: 0.718 - 0s 112us/step - loss: 0.5817 - acc: 0.7067\n"
     ]
    },
    {
     "data": {
      "text/plain": [
       "<keras.callbacks.History at 0x11ff662b0>"
      ]
     },
     "execution_count": 6,
     "metadata": {},
     "output_type": "execute_result"
    }
   ],
   "source": [
    "model.fit(X_train2, Y_train2_t, epochs=20, batch_size=32)"
   ]
  },
  {
   "cell_type": "code",
   "execution_count": 7,
   "metadata": {},
   "outputs": [
    {
     "data": {
      "text/plain": [
       "array([[  6.68509721e-35,   1.00000000e+00,   0.00000000e+00]], dtype=float32)"
      ]
     },
     "execution_count": 7,
     "metadata": {},
     "output_type": "execute_result"
    }
   ],
   "source": [
    "X_test2 = generate_a_disk()\n",
    "X_test2 = X_test2.reshape(1, X_test2.shape[0])\n",
    "model.predict(X_test2)"
   ]
  },
  {
   "cell_type": "code",
   "execution_count": 106,
   "metadata": {},
   "outputs": [],
   "source": [
    "import keras\n",
    "from keras.models import Sequential\n",
    "import keras.backend as K\n",
    "K.clear_session()\n",
    "model1 = Sequential()\n",
    "\n",
    "from keras.utils import to_categorical\n",
    "Y_train2_t = to_categorical(Y_train2, num_classes=3)\n",
    "from keras.layers import Dense, Activation\n",
    "\n",
    "nb_neurons = 30\n",
    "model1.add(Dense(nb_neurons, input_shape=(5184,)))\n",
    "model1.add(Activation('relu'))\n",
    "model1.add(Dense(3, activation = 'softmax'))"
   ]
  },
  {
   "cell_type": "code",
   "execution_count": 107,
   "metadata": {},
   "outputs": [],
   "source": [
    "from keras.optimizers import Adam\n",
    "adam = Adam(lr=0.0001)\n",
    "\n",
    "model1.compile(loss='categorical_crossentropy', optimizer=adam, metrics=['accuracy'])"
   ]
  },
  {
   "cell_type": "code",
   "execution_count": 123,
   "metadata": {},
   "outputs": [
    {
     "name": "stdout",
     "output_type": "stream",
     "text": [
      "Epoch 1/20\n",
      "300/300 [==============================] - 0s 104us/step - loss: 0.0049 - acc: 1.0000\n",
      "Epoch 2/20\n",
      "300/300 [==============================] - 0s 97us/step - loss: 0.0048 - acc: 1.0000\n",
      "Epoch 3/20\n",
      "300/300 [==============================] - 0s 126us/step - loss: 0.0049 - acc: 1.0000\n",
      "Epoch 4/20\n",
      "300/300 [==============================] - 0s 108us/step - loss: 0.0048 - acc: 1.0000\n",
      "Epoch 5/20\n",
      "300/300 [==============================] - 0s 102us/step - loss: 0.0047 - acc: 1.0000\n",
      "Epoch 6/20\n",
      "300/300 [==============================] - 0s 106us/step - loss: 0.0048 - acc: 1.0000\n",
      "Epoch 7/20\n",
      "300/300 [==============================] - 0s 124us/step - loss: 0.0048 - acc: 1.0000\n",
      "Epoch 8/20\n",
      "300/300 [==============================] - 0s 128us/step - loss: 0.0048 - acc: 1.0000\n",
      "Epoch 9/20\n",
      "300/300 [==============================] - 0s 124us/step - loss: 0.0045 - acc: 1.0000\n",
      "Epoch 10/20\n",
      "300/300 [==============================] - 0s 150us/step - loss: 0.0045 - acc: 1.0000\n",
      "Epoch 11/20\n",
      "300/300 [==============================] - 0s 129us/step - loss: 0.0045 - acc: 1.0000\n",
      "Epoch 12/20\n",
      "300/300 [==============================] - 0s 124us/step - loss: 0.0045 - acc: 1.0000\n",
      "Epoch 13/20\n",
      "300/300 [==============================] - 0s 144us/step - loss: 0.0044 - acc: 1.0000\n",
      "Epoch 14/20\n",
      "300/300 [==============================] - 0s 128us/step - loss: 0.0043 - acc: 1.0000\n",
      "Epoch 15/20\n",
      "300/300 [==============================] - 0s 145us/step - loss: 0.0043 - acc: 1.0000\n",
      "Epoch 16/20\n",
      "300/300 [==============================] - 0s 103us/step - loss: 0.0042 - acc: 1.0000\n",
      "Epoch 17/20\n",
      "300/300 [==============================] - 0s 102us/step - loss: 0.0042 - acc: 1.0000\n",
      "Epoch 18/20\n",
      "300/300 [==============================] - 0s 103us/step - loss: 0.0041 - acc: 1.0000\n",
      "Epoch 19/20\n",
      "300/300 [==============================] - 0s 119us/step - loss: 0.0042 - acc: 1.0000\n",
      "Epoch 20/20\n",
      "300/300 [==============================] - 0s 141us/step - loss: 0.0041 - acc: 1.0000\n"
     ]
    },
    {
     "data": {
      "text/plain": [
       "<keras.callbacks.History at 0x121e7bb00>"
      ]
     },
     "execution_count": 123,
     "metadata": {},
     "output_type": "execute_result"
    }
   ],
   "source": [
    "model1.fit(X_train2, Y_train2_t, epochs=20, batch_size=32)\n"
   ]
  },
  {
   "cell_type": "code",
   "execution_count": 118,
   "metadata": {},
   "outputs": [
    {
     "data": {
      "text/plain": [
       "array([[ 0.,  1.,  0.]], dtype=float32)"
      ]
     },
     "execution_count": 118,
     "metadata": {},
     "output_type": "execute_result"
    }
   ],
   "source": [
    "X_test2 = generate_a_disk()\n",
    "X_test2 = X_test2.reshape(1, X_test2.shape[0])\n",
    "model1.predict(X_test2)"
   ]
  },
  {
   "cell_type": "markdown",
   "metadata": {},
   "source": [
    "# Question 3"
   ]
  },
  {
   "cell_type": "code",
   "execution_count": 124,
   "metadata": {},
   "outputs": [
    {
     "data": {
      "text/plain": [
       "(72, 72, 3)"
      ]
     },
     "execution_count": 124,
     "metadata": {},
     "output_type": "execute_result"
    }
   ],
   "source": [
    "weights1 = model1.get_weights()[0].reshape(72,72,30)\n",
    "weights2 = model1.get_weights()[2]\n",
    "\n",
    "weights = np.dot(weights1, weights2)\n",
    "weights.shape"
   ]
  },
  {
   "cell_type": "code",
   "execution_count": 125,
   "metadata": {},
   "outputs": [
    {
     "data": {
      "image/png": "[encoded data removed]",
      "text/plain": [
       "<matplotlib.figure.Figure at 0x121e7b9e8>"
      ]
     },
     "metadata": {},
     "output_type": "display_data"
    },
    {
     "data": {
      "image/png": "[encoded data removed]",
      "text/plain": [
       "<matplotlib.figure.Figure at 0x1250b9e48>"
      ]
     },
     "metadata": {},
     "output_type": "display_data"
    },
    {
     "data": {
      "image/png": "[encoded data removed]",
      "text/plain": [
       "<matplotlib.figure.Figure at 0x123c8a278>"
      ]
     },
     "metadata": {},
     "output_type": "display_data"
    }
   ],
   "source": [
    "for i in range(3):\n",
    "    plt.imshow(weights[:,:,i], cmap = \"hot\")\n",
    "    plt.show()"
   ]
  },
  {
   "cell_type": "markdown",
   "metadata": {},
   "source": [
    "# Question 4"
   ]
  },
  {
   "cell_type": "code",
   "execution_count": 14,
   "metadata": {},
   "outputs": [
    {
     "name": "stdout",
     "output_type": "stream",
     "text": [
      "Creating data:\n",
      "0\n",
      "10\n",
      "20\n",
      "30\n",
      "40\n",
      "50\n",
      "60\n",
      "70\n",
      "80\n",
      "90\n",
      "100\n",
      "110\n",
      "120\n",
      "130\n",
      "140\n",
      "150\n",
      "160\n",
      "170\n",
      "180\n",
      "190\n",
      "200\n",
      "210\n",
      "220\n",
      "230\n",
      "240\n",
      "250\n",
      "260\n",
      "270\n",
      "280\n",
      "290\n",
      "300\n",
      "310\n",
      "320\n",
      "330\n",
      "340\n",
      "350\n",
      "360\n",
      "370\n",
      "380\n",
      "390\n",
      "400\n",
      "410\n",
      "420\n",
      "430\n",
      "440\n",
      "450\n",
      "460\n",
      "470\n",
      "480\n",
      "490\n",
      "500\n",
      "510\n",
      "520\n",
      "530\n",
      "540\n",
      "550\n",
      "560\n",
      "570\n",
      "580\n",
      "590\n",
      "600\n",
      "610\n",
      "620\n",
      "630\n",
      "640\n",
      "650\n",
      "660\n",
      "670\n",
      "680\n",
      "690\n",
      "700\n",
      "710\n",
      "720\n",
      "730\n",
      "740\n",
      "750\n",
      "760\n",
      "770\n",
      "780\n",
      "790\n",
      "800\n",
      "810\n",
      "820\n",
      "830\n",
      "840\n",
      "850\n",
      "860\n",
      "870\n",
      "880\n",
      "890\n",
      "900\n",
      "910\n",
      "920\n",
      "930\n",
      "940\n",
      "950\n",
      "960\n",
      "970\n",
      "980\n",
      "990\n"
     ]
    }
   ],
   "source": [
    "[X_train4, Y_train4] = generate_dataset_classification(1000, 20, True)"
   ]
  },
  {
   "cell_type": "code",
   "execution_count": 126,
   "metadata": {
    "collapsed": true
   },
   "outputs": [],
   "source": [
    "X_train4_t = X_train4.reshape(-1,72,72,1)"
   ]
  },
  {
   "cell_type": "code",
   "execution_count": 127,
   "metadata": {},
   "outputs": [],
   "source": [
    "import keras\n",
    "from keras.models import Sequential\n",
    "import keras.backend as K\n",
    "K.clear_session()\n",
    "model4 = Sequential()\n",
    "\n",
    "from keras.utils import to_categorical\n",
    "Y_train4_t = to_categorical(Y_train4, num_classes=3)\n",
    "from keras.layers import Dense, Activation, Conv2D, MaxPooling2D, Flatten\n",
    "\n",
    "nb_neurons = 30 \n",
    "\n",
    "model4.add(Conv2D(filters=32, kernel_size=[5, 5], input_shape=(72,72,1)))\n",
    "model4.add(MaxPooling2D(pool_size=(2, 2)))\n",
    "model4.add(Flatten())\n",
    "model4.add(Dense(nb_neurons, input_shape=(72,72,)))\n",
    "model4.add(Activation('relu'))\n",
    "model4.add(Dense(3, activation = 'softmax'))"
   ]
  },
  {
   "cell_type": "code",
   "execution_count": 128,
   "metadata": {
    "collapsed": true
   },
   "outputs": [],
   "source": [
    "model4.compile(loss='categorical_crossentropy', optimizer='adam', metrics=['accuracy'])"
   ]
  },
  {
   "cell_type": "code",
   "execution_count": 129,
   "metadata": {},
   "outputs": [
    {
     "name": "stdout",
     "output_type": "stream",
     "text": [
      "Epoch 1/20\n",
      "1000/1000 [==============================] - 3s 3ms/step - loss: 1.1977 - acc: 0.4870\n",
      "Epoch 2/20\n",
      "1000/1000 [==============================] - 3s 3ms/step - loss: 0.7372 - acc: 0.6890\n",
      "Epoch 3/20\n",
      "1000/1000 [==============================] - 3s 3ms/step - loss: 0.6468 - acc: 0.7420\n",
      "Epoch 4/20\n",
      "1000/1000 [==============================] - 3s 3ms/step - loss: 0.5622 - acc: 0.7850\n",
      "Epoch 5/20\n",
      "1000/1000 [==============================] - 3s 3ms/step - loss: 0.4950 - acc: 0.8150\n",
      "Epoch 6/20\n",
      "1000/1000 [==============================] - 3s 3ms/step - loss: 0.4508 - acc: 0.8370\n",
      "Epoch 7/20\n",
      "1000/1000 [==============================] - 3s 3ms/step - loss: 0.3858 - acc: 0.8800\n",
      "Epoch 8/20\n",
      "1000/1000 [==============================] - 3s 3ms/step - loss: 0.3674 - acc: 0.8800\n",
      "Epoch 9/20\n",
      "1000/1000 [==============================] - 3s 3ms/step - loss: 0.3544 - acc: 0.8780\n",
      "Epoch 10/20\n",
      "1000/1000 [==============================] - 3s 3ms/step - loss: 0.2916 - acc: 0.9090\n",
      "Epoch 11/20\n",
      "1000/1000 [==============================] - 3s 3ms/step - loss: 0.2440 - acc: 0.9350\n",
      "Epoch 12/20\n",
      "1000/1000 [==============================] - 3s 3ms/step - loss: 0.2371 - acc: 0.9320\n",
      "Epoch 13/20\n",
      "1000/1000 [==============================] - 3s 3ms/step - loss: 0.2038 - acc: 0.9450\n",
      "Epoch 14/20\n",
      "1000/1000 [==============================] - 3s 3ms/step - loss: 0.1764 - acc: 0.9570\n",
      "Epoch 15/20\n",
      "1000/1000 [==============================] - 3s 3ms/step - loss: 0.1487 - acc: 0.9720\n",
      "Epoch 16/20\n",
      "1000/1000 [==============================] - 3s 3ms/step - loss: 0.1244 - acc: 0.9760\n",
      "Epoch 17/20\n",
      "1000/1000 [==============================] - 3s 3ms/step - loss: 0.1078 - acc: 0.9830\n",
      "Epoch 18/20\n",
      "1000/1000 [==============================] - 4s 4ms/step - loss: 0.0934 - acc: 0.9880\n",
      "Epoch 19/20\n",
      "1000/1000 [==============================] - 3s 3ms/step - loss: 0.0878 - acc: 0.9830\n",
      "Epoch 20/20\n",
      "1000/1000 [==============================] - 3s 3ms/step - loss: 0.0688 - acc: 0.9950\n"
     ]
    },
    {
     "data": {
      "text/plain": [
       "<keras.callbacks.History at 0x124ffec50>"
      ]
     },
     "execution_count": 129,
     "metadata": {},
     "output_type": "execute_result"
    }
   ],
   "source": [
    "model4.fit(X_train4_t, Y_train4_t, epochs=20, batch_size=32)"
   ]
  },
  {
   "cell_type": "code",
   "execution_count": 19,
   "metadata": {},
   "outputs": [
    {
     "name": "stdout",
     "output_type": "stream",
     "text": [
      "Creating data:\n",
      "0\n",
      "10\n",
      "20\n",
      "30\n",
      "40\n",
      "50\n",
      "60\n",
      "70\n",
      "80\n",
      "90\n",
      "100\n",
      "110\n",
      "120\n",
      "130\n",
      "140\n",
      "150\n",
      "160\n",
      "170\n",
      "180\n",
      "190\n",
      "200\n",
      "210\n",
      "220\n",
      "230\n",
      "240\n",
      "250\n",
      "260\n",
      "270\n",
      "280\n",
      "290\n"
     ]
    }
   ],
   "source": [
    "[X_test4, Y_test4] = generate_test_set_classification()"
   ]
  },
  {
   "cell_type": "code",
   "execution_count": 20,
   "metadata": {
    "collapsed": true
   },
   "outputs": [],
   "source": [
    "X_test4_t = X_test4.reshape(300,72,72,1)"
   ]
  },
  {
   "cell_type": "code",
   "execution_count": 21,
   "metadata": {},
   "outputs": [
    {
     "name": "stdout",
     "output_type": "stream",
     "text": [
      "300/300 [==============================] - 0s 1ms/step\n"
     ]
    },
    {
     "data": {
      "text/plain": [
       "[0.50151954253514608, 0.76666666666666672]"
      ]
     },
     "execution_count": 21,
     "metadata": {},
     "output_type": "execute_result"
    }
   ],
   "source": [
    "model4.evaluate(X_test4_t, Y_test4)"
   ]
  },
  {
   "cell_type": "markdown",
   "metadata": {},
   "source": [
    "# Question 5"
   ]
  },
  {
   "cell_type": "code",
   "execution_count": 22,
   "metadata": {},
   "outputs": [
    {
     "name": "stdout",
     "output_type": "stream",
     "text": [
      "Creating data:\n",
      "0\n",
      "10\n",
      "20\n",
      "30\n",
      "40\n",
      "50\n",
      "60\n",
      "70\n",
      "80\n",
      "90\n",
      "100\n",
      "110\n",
      "120\n",
      "130\n",
      "140\n",
      "150\n",
      "160\n",
      "170\n",
      "180\n",
      "190\n",
      "200\n",
      "210\n",
      "220\n",
      "230\n",
      "240\n",
      "250\n",
      "260\n",
      "270\n",
      "280\n",
      "290\n",
      "300\n",
      "310\n",
      "320\n",
      "330\n",
      "340\n",
      "350\n",
      "360\n",
      "370\n",
      "380\n",
      "390\n",
      "400\n",
      "410\n",
      "420\n",
      "430\n",
      "440\n",
      "450\n",
      "460\n",
      "470\n",
      "480\n",
      "490\n",
      "500\n",
      "510\n",
      "520\n",
      "530\n",
      "540\n",
      "550\n",
      "560\n",
      "570\n",
      "580\n",
      "590\n",
      "600\n",
      "610\n",
      "620\n",
      "630\n",
      "640\n",
      "650\n",
      "660\n",
      "670\n",
      "680\n",
      "690\n",
      "700\n",
      "710\n",
      "720\n",
      "730\n",
      "740\n",
      "750\n",
      "760\n",
      "770\n",
      "780\n",
      "790\n",
      "800\n",
      "810\n",
      "820\n",
      "830\n",
      "840\n",
      "850\n",
      "860\n",
      "870\n",
      "880\n",
      "890\n",
      "900\n",
      "910\n",
      "920\n",
      "930\n",
      "940\n",
      "950\n",
      "960\n",
      "970\n",
      "980\n",
      "990\n"
     ]
    }
   ],
   "source": [
    "[X_train5, Y_train5] = generate_dataset_regression(1000, 20)"
   ]
  },
  {
   "cell_type": "code",
   "execution_count": 69,
   "metadata": {},
   "outputs": [],
   "source": [
    "import keras\n",
    "from keras.models import Sequential\n",
    "import keras.backend as K\n",
    "K.clear_session()\n",
    "model5 = Sequential()\n",
    "\n",
    "from keras.layers import Dense, Activation, Conv2D, Flatten, MaxPooling2D, Dropout\n",
    "nb_neurons = 64\n",
    "model5.add(Conv2D(filters=32, kernel_size=[5, 5], input_shape=(72,72,1)))\n",
    "model5.add(MaxPooling2D(pool_size=(2, 2)))\n",
    "model5.add(Flatten())\n",
    "model5.add(Dropout(0.25))\n",
    "model5.add(Dense(nb_neurons, input_shape=(72,72,)))\n",
    "model5.add(Activation('relu'))\n",
    "model5.add(Dense(6, activation = 'linear'))"
   ]
  },
  {
   "cell_type": "code",
   "execution_count": 70,
   "metadata": {
    "collapsed": true
   },
   "outputs": [],
   "source": [
    "from keras.optimizers import Adam\n",
    "adam = Adam(lr=0.0001)\n",
    "\n",
    "model5.compile(loss='mean_squared_error',\n",
    "              optimizer=adam)"
   ]
  },
  {
   "cell_type": "code",
   "execution_count": 25,
   "metadata": {},
   "outputs": [
    {
     "name": "stdout",
     "output_type": "stream",
     "text": [
      "Creating data:\n",
      "0\n",
      "10\n",
      "20\n",
      "30\n",
      "40\n",
      "50\n",
      "60\n",
      "70\n",
      "80\n",
      "90\n",
      "100\n",
      "110\n",
      "120\n",
      "130\n",
      "140\n",
      "150\n",
      "160\n",
      "170\n",
      "180\n",
      "190\n",
      "200\n",
      "210\n",
      "220\n",
      "230\n",
      "240\n",
      "250\n",
      "260\n",
      "270\n",
      "280\n",
      "290\n"
     ]
    }
   ],
   "source": [
    "[X_test5, Y_test5] = generate_test_set_regression()"
   ]
  },
  {
   "cell_type": "code",
   "execution_count": 71,
   "metadata": {
    "scrolled": true
   },
   "outputs": [],
   "source": [
    "X_train5_t = X_train5.reshape(-1,72,72,1)\n",
    "X_test5_t = X_test5.reshape(-1,72,72,1)"
   ]
  },
  {
   "cell_type": "code",
   "execution_count": 72,
   "metadata": {},
   "outputs": [],
   "source": [
    "Y_train5_sorted = centre_gravite(Y_train5, 1000)\n",
    "Y_test5_sorted = centre_gravite(Y_test5, 300)"
   ]
  },
  {
   "cell_type": "code",
   "execution_count": 43,
   "metadata": {},
   "outputs": [
    {
     "data": {
      "text/plain": [
       "array([ 0.71986584,  0.92000602,  0.31926686,  0.97619732,  0.56522072,\n",
       "        0.02423682])"
      ]
     },
     "execution_count": 43,
     "metadata": {},
     "output_type": "execute_result"
    }
   ],
   "source": [
    "Y_train5[0]"
   ]
  },
  {
   "cell_type": "code",
   "execution_count": 44,
   "metadata": {},
   "outputs": [
    {
     "data": {
      "text/plain": [
       "array([ 0.18508136,  0.2798593 , -0.21551761,  0.3360506 ,  0.53478448,\n",
       "        0.64014672])"
      ]
     },
     "execution_count": 44,
     "metadata": {},
     "output_type": "execute_result"
    }
   ],
   "source": [
    "Y_train5_sorted[0]"
   ]
  },
  {
   "cell_type": "code",
   "execution_count": 52,
   "metadata": {},
   "outputs": [
    {
     "data": {
      "text/plain": [
       "array([ 0.71986584,  0.92000602,  0.31926686,  0.97619732,  0.56522072,\n",
       "        0.02423682])"
      ]
     },
     "execution_count": 52,
     "metadata": {},
     "output_type": "execute_result"
    }
   ],
   "source": [
    "Y_train5_final[0]"
   ]
  },
  {
   "cell_type": "code",
   "execution_count": 88,
   "metadata": {},
   "outputs": [
    {
     "name": "stdout",
     "output_type": "stream",
     "text": [
      "Train on 1000 samples, validate on 300 samples\n",
      "Epoch 1/20\n",
      "1000/1000 [==============================] - 4s 4ms/step - loss: 9.6664e-04 - val_loss: 0.0141\n",
      "Epoch 2/20\n",
      "1000/1000 [==============================] - 4s 4ms/step - loss: 9.8199e-04 - val_loss: 0.0142\n",
      "Epoch 3/20\n",
      "1000/1000 [==============================] - 4s 4ms/step - loss: 9.5790e-04 - val_loss: 0.0141\n",
      "Epoch 4/20\n",
      "1000/1000 [==============================] - 4s 4ms/step - loss: 9.1946e-04 - val_loss: 0.0145\n",
      "Epoch 5/20\n",
      "1000/1000 [==============================] - 4s 4ms/step - loss: 9.7966e-04 - val_loss: 0.0143\n",
      "Epoch 6/20\n",
      "1000/1000 [==============================] - 4s 4ms/step - loss: 9.1857e-04 - val_loss: 0.0141\n",
      "Epoch 7/20\n",
      "1000/1000 [==============================] - 4s 4ms/step - loss: 9.1352e-04 - val_loss: 0.0143\n",
      "Epoch 8/20\n",
      "1000/1000 [==============================] - 4s 4ms/step - loss: 9.3423e-04 - val_loss: 0.0140\n",
      "Epoch 9/20\n",
      "1000/1000 [==============================] - 4s 4ms/step - loss: 9.4798e-04 - val_loss: 0.0140\n",
      "Epoch 10/20\n",
      "1000/1000 [==============================] - 4s 4ms/step - loss: 8.6812e-04 - val_loss: 0.0141\n",
      "Epoch 11/20\n",
      "1000/1000 [==============================] - 4s 4ms/step - loss: 8.7972e-04 - val_loss: 0.0139\n",
      "Epoch 12/20\n",
      "1000/1000 [==============================] - 4s 4ms/step - loss: 8.8437e-04 - val_loss: 0.0140\n",
      "Epoch 13/20\n",
      "1000/1000 [==============================] - 4s 4ms/step - loss: 9.2660e-04 - val_loss: 0.0139\n",
      "Epoch 14/20\n",
      "1000/1000 [==============================] - 4s 4ms/step - loss: 9.7557e-04 - val_loss: 0.0140\n",
      "Epoch 15/20\n",
      "1000/1000 [==============================] - 4s 4ms/step - loss: 8.7435e-04 - val_loss: 0.0140\n",
      "Epoch 16/20\n",
      "1000/1000 [==============================] - 4s 4ms/step - loss: 9.3908e-04 - val_loss: 0.0139\n",
      "Epoch 17/20\n",
      "1000/1000 [==============================] - 4s 4ms/step - loss: 8.8061e-04 - val_loss: 0.0140\n",
      "Epoch 18/20\n",
      "1000/1000 [==============================] - 4s 4ms/step - loss: 8.5425e-04 - val_loss: 0.0139\n",
      "Epoch 19/20\n",
      "1000/1000 [==============================] - 4s 4ms/step - loss: 8.3390e-04 - val_loss: 0.0139\n",
      "Epoch 20/20\n",
      "1000/1000 [==============================] - 4s 4ms/step - loss: 9.1727e-04 - val_loss: 0.0138\n"
     ]
    },
    {
     "data": {
      "text/plain": [
       "<keras.callbacks.History at 0x123f5f710>"
      ]
     },
     "execution_count": 88,
     "metadata": {},
     "output_type": "execute_result"
    }
   ],
   "source": [
    "model5.fit(X_train5_t, Y_train5_sorted, validation_data = (X_test5_t, Y_test5_sorted), epochs=20, batch_size=32)"
   ]
  },
  {
   "cell_type": "code",
   "execution_count": 89,
   "metadata": {},
   "outputs": [],
   "source": [
    "Y_test5_final = rearrange_triangle(Y_test5_sorted,300)\n",
    "Y_test5_predictionfinal = rearrange_triangle(model5.predict(X_test5_t), 300)\n",
    "Y_train5_final = rearrange_triangle(Y_train5_sorted,1000)\n",
    "Y_train5_predictionfinal = rearrange_triangle(model5.predict(X_train5_t),1000)"
   ]
  },
  {
   "cell_type": "code",
   "execution_count": 90,
   "metadata": {},
   "outputs": [
    {
     "name": "stdout",
     "output_type": "stream",
     "text": [
      "300/300 [==============================] - 0s 1ms/step\n"
     ]
    },
    {
     "data": {
      "text/plain": [
       "0.013848887085914611"
      ]
     },
     "execution_count": 90,
     "metadata": {},
     "output_type": "execute_result"
    }
   ],
   "source": [
    "model5.evaluate(X_test5_t, Y_test5_sorted)"
   ]
  },
  {
   "cell_type": "code",
   "execution_count": 91,
   "metadata": {},
   "outputs": [
    {
     "name": "stdout",
     "output_type": "stream",
     "text": [
      "1000/1000 [==============================] - 1s 1ms/step\n"
     ]
    },
    {
     "data": {
      "text/plain": [
       "0.000327523005194962"
      ]
     },
     "execution_count": 91,
     "metadata": {},
     "output_type": "execute_result"
    }
   ],
   "source": [
    "model5.evaluate(X_train5_t, Y_train5_sorted)"
   ]
  },
  {
   "cell_type": "code",
   "execution_count": 92,
   "metadata": {},
   "outputs": [
    {
     "data": {
      "image/png": "[encoded data removed]",
      "text/plain": [
       "<matplotlib.figure.Figure at 0x121db49b0>"
      ]
     },
     "metadata": {},
     "output_type": "display_data"
    }
   ],
   "source": [
    "visualize_prediction(X_train5_t[0,:,:],Y_train5_predictionfinal[0])"
   ]
  },
  {
   "cell_type": "code",
   "execution_count": 93,
   "metadata": {},
   "outputs": [
    {
     "data": {
      "image/png": "[encoded data removed]",
      "text/plain": [
       "<matplotlib.figure.Figure at 0x124096898>"
      ]
     },
     "metadata": {},
     "output_type": "display_data"
    }
   ],
   "source": [
    "visualize_prediction(X_test5_t[0,:,:],Y_test5_predictionfinal[0])"
   ]
  },
  {
   "cell_type": "code",
   "execution_count": null,
   "metadata": {
    "collapsed": true
   },
   "outputs": [],
   "source": []
  },
  {
   "cell_type": "code",
   "execution_count": null,
   "metadata": {
    "collapsed": true
   },
   "outputs": [],
   "source": []
  }
 ],
 "metadata": {
  "kernelspec": {
   "display_name": "Python 3",
   "language": "python",
   "name": "python3"
  },
  "language_info": {
   "codemirror_mode": {
    "name": "ipython",
    "version": 3
   },
   "file_extension": ".py",
   "mimetype": "text/x-python",
   "name": "python",
   "nbconvert_exporter": "python",
   "pygments_lexer": "ipython3",
   "version": "3.6.3"
  }
 },
 "nbformat": 4,
 "nbformat_minor": 2
}
